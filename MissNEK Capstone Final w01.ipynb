{
 "cells": [
  {
   "cell_type": "markdown",
   "metadata": {},
   "source": [
    "### Coursera Capstone Project\n",
    "# The Battle of Neighborhoods"
   ]
  },
  {
   "cell_type": "markdown",
   "metadata": {},
   "source": [
    "## Content:"
   ]
  },
  {
   "cell_type": "markdown",
   "metadata": {},
   "source": [
    "### Week 1\n",
    "- Introduction of the business problem and who would be interested in this project.\n",
    "- Data to solve the problem and the source of the data."
   ]
  },
  {
   "cell_type": "markdown",
   "metadata": {},
   "source": [
    "### Description of the Problem and Background\n",
    "\n",
    "I am a Data Analyst from Canada. It's a world-known fact that Canada, as well as US, is a land of immigrants from all over the world. \n",
    "Before arriving in Canada, the immigrant should prove he/she will be independent in the settlement and know what to do and where to start his/her family life \n",
    "in the new country. Being a Data Analyst, I am contacted by different people who ask about pre-arrival support which helps them to settle in absolutely new city.\n",
    "Knowing the city will make it easy for immigrants to adapt and settle successfully. Mostly they are interested in choosing the best area \n",
    "to live with the family based on the following factors: "
   ]
  },
  {
   "cell_type": "markdown",
   "metadata": {},
   "source": [
    "- the residential area far from Downtown\n",
    "- 3 bedroom condo (for a stardard family of 2 adults and 2 kids)\n",
    "- rent price in the limit of 1000-1200 CAD\n",
    "- school availability in the area (elementary, middle or high schools)\n",
    "- possibility of daycare for small kids\n",
    "- walking distance to other desirable places such as restaurants, cinemas, liquor stores, gyms, close distance to any of the food stores etc.\n"
   ]
  },
  {
   "cell_type": "markdown",
   "metadata": {},
   "source": [
    "Having in mind statistical data that Manitoba is the most popular destination of Canada and open province for Oversees Immigration Programs, let's assume that a potential immigrant\n",
    "would like to live in the capital city of the province -Winnipeg (705,000 population). The second big city of Manitoba has 50,000 of residence, so I would limit my research on\n",
    "the biggest city which can give more opportunities for the newcomers."
   ]
  },
  {
   "cell_type": "markdown",
   "metadata": {},
   "source": [
    "### Who could be interested in the research"
   ]
  },
  {
   "cell_type": "markdown",
   "metadata": {},
   "source": [
    "According to Citizenship and Immigration office, hundred thousands of people from Europe, Asia, and other areas migrate to Canada each year. \n",
    "This research could be applicable to anyone interested in starting their life in a new country (potentially, any new place). \n",
    "It can help any immigrant to prepare a part of the settlement plan without actually being in a country which is a thousand miles from their original place.\n",
    "With reference to the provided map, the case becomes the more visualized basis for making a decision about a new home far from home."
   ]
  },
  {
   "cell_type": "markdown",
   "metadata": {},
   "source": [
    "### Data to solve the problem and the source of the data\n"
   ]
  },
  {
   "cell_type": "markdown",
   "metadata": {},
   "source": [
    "As it has been stated above, the following data is required for the area research:\n"
   ]
  },
  {
   "cell_type": "markdown",
   "metadata": {},
   "source": [
    "  - Areas/neighborhoods of the city\n",
    "  - List of condos for rent in the desired price range and other valuable details\n",
    "  - List of schools split by type of schools (elementary, middle, high)\n",
    "  - List of daycare with addresses \n",
    "  - Analysis of the eating, shopping facilities based on geographic coordinates of neighborhood venues (cinema, cafes or restaurant, sports places)\n",
    "    Clusters might be proposed (if required) to focus on area strengths.\n",
    "    \n",
    "The data will answer the questions and illustrate the advantages of a new location for family settlement.\n",
    "The map will be attached to the presentation as well."
   ]
  },
  {
   "cell_type": "markdown",
   "metadata": {},
   "source": [
    "### Methodology\n",
    "\n",
    "The geodata and coordinates will be extracted from Foursquare (the school venues, eating, and shopping places) to determine the most appropriate area to choose.\n",
    "Foursquare API will be used also for mapping the locations of rental condos and other required venues. Rental addresses will be converted to geo data using Geopy-distance and local rental website.\n",
    "The content-based technique is going to be implemented to solve the problem and give recommendations.\n",
    "\n",
    "Combining with FourSquare, a matrix could be built to capture characteristic of venues nearby (cluster analysis will be one of the tools) and be applied to the required areas for proving the \n",
    "recommendations to the interested audience.\n",
    "To start the research, the data should be cleaned and carefully prepared for analysis."
   ]
  },
  {
   "cell_type": "markdown",
   "metadata": {},
   "source": [
    "#### Let's deep dive into the reseach. "
   ]
  },
  {
   "cell_type": "markdown",
   "metadata": {},
   "source": [
    "\n",
    "#### To be continued next week"
   ]
  }
 ],
 "metadata": {
  "kernelspec": {
   "display_name": "Python",
   "language": "python",
   "name": "conda-env-python-py"
  },
  "language_info": {
   "codemirror_mode": {
    "name": "ipython",
    "version": 3
   },
   "file_extension": ".py",
   "mimetype": "text/x-python",
   "name": "python",
   "nbconvert_exporter": "python",
   "pygments_lexer": "ipython3",
   "version": "3.6.7"
  },
  "widgets": {
   "state": {},
   "version": "1.1.2"
  }
 },
 "nbformat": 4,
 "nbformat_minor": 4
}
